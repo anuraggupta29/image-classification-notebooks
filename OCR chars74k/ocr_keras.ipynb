{
  "nbformat": 4,
  "nbformat_minor": 0,
  "metadata": {
    "colab": {
      "name": "ocr-keras.ipynb",
      "provenance": []
    },
    "kernelspec": {
      "name": "python3",
      "display_name": "Python 3"
    },
    "accelerator": "GPU"
  },
  "cells": [
    {
      "cell_type": "markdown",
      "metadata": {
        "id": "CQSr_5Jn2Riq",
        "colab_type": "text"
      },
      "source": [
        "<h1> Optical character recognition using keras</h1>\n",
        "<h3> Dataset used : Chars74k</h3>\n",
        "<h3> link: <a>http://www.ee.surrey.ac.uk/CVSSP/demos/chars74k/</a></h3>\n",
        "<h3>Dataset contained 0-9, A-Z, a-z</h3>\n",
        "<h3>Dataset comprised of 4 computer fonts in normal, bold, italic </h3>\n",
        "<p>I used 80% data for training, 15% for validation and 5% for testing. The accuracy achieved is as follows:<br>\n",
        "<br>\n",
        "Training : 98.11%<br>\n",
        "Validation: 94.66%<br>\n",
        "Test: 94.77%<br></p>"
      ]
    },
    {
      "cell_type": "code",
      "metadata": {
        "id": "Mr8fIc7Je4LM",
        "colab_type": "code",
        "colab": {}
      },
      "source": [
        "#import packages\n",
        "import matplotlib.pyplot as plt\n",
        "import pandas as pd\n",
        "from PIL import Image\n",
        "import numpy as np\n",
        "import math\n",
        "import os\n",
        "from shutil import copyfile"
      ],
      "execution_count": 0,
      "outputs": []
    },
    {
      "cell_type": "code",
      "metadata": {
        "id": "zfTsE_lPjmrt",
        "colab_type": "code",
        "colab": {
          "base_uri": "https://localhost:8080/",
          "height": 34
        },
        "outputId": "63fa321c-b614-436c-b332-47416744a6a2"
      },
      "source": [
        "import keras\n",
        "from keras.models import Sequential\n",
        "from keras.layers import Dense\n",
        "\n",
        "from keras.preprocessing.image import ImageDataGenerator\n",
        "\n",
        "from keras.models import load_model\n",
        "\n",
        "from keras.layers.convolutional import Conv2D\n",
        "from keras.layers.convolutional import MaxPooling2D\n",
        "\n",
        "from keras.layers import Flatten"
      ],
      "execution_count": 6,
      "outputs": [
        {
          "output_type": "stream",
          "text": [
            "Using TensorFlow backend.\n"
          ],
          "name": "stderr"
        }
      ]
    },
    {
      "cell_type": "code",
      "metadata": {
        "id": "KsGBEql5I-Ik",
        "colab_type": "code",
        "colab": {
          "base_uri": "https://localhost:8080/",
          "height": 210
        },
        "outputId": "5bfe38f4-1cee-4e35-f925-72e6f849f14d"
      },
      "source": [
        "#get the dataset for ocr\n",
        "!wget http://www.ee.surrey.ac.uk/CVSSP/demos/chars74k/EnglishFnt.tgz"
      ],
      "execution_count": 7,
      "outputs": [
        {
          "output_type": "stream",
          "text": [
            "--2020-04-22 21:28:46--  http://www.ee.surrey.ac.uk/CVSSP/demos/chars74k/EnglishFnt.tgz\n",
            "Resolving www.ee.surrey.ac.uk (www.ee.surrey.ac.uk)... 131.227.80.48\n",
            "Connecting to www.ee.surrey.ac.uk (www.ee.surrey.ac.uk)|131.227.80.48|:80... connected.\n",
            "HTTP request sent, awaiting response... 200 OK\n",
            "Length: 49817950 (48M) [application/x-gzip]\n",
            "Saving to: ‘EnglishFnt.tgz’\n",
            "\n",
            "EnglishFnt.tgz      100%[===================>]  47.51M  15.9MB/s    in 3.0s    \n",
            "\n",
            "2020-04-22 21:28:50 (15.9 MB/s) - ‘EnglishFnt.tgz’ saved [49817950/49817950]\n",
            "\n"
          ],
          "name": "stdout"
        }
      ]
    },
    {
      "cell_type": "code",
      "metadata": {
        "id": "PKFl978AKMgM",
        "colab_type": "code",
        "colab": {}
      },
      "source": [
        "#unzip the dataset\n",
        "!tar -xvzf EnglishFnt.tgz"
      ],
      "execution_count": 0,
      "outputs": []
    },
    {
      "cell_type": "code",
      "metadata": {
        "id": "WqyTs4VQLjOT",
        "colab_type": "code",
        "colab": {
          "base_uri": "https://localhost:8080/",
          "height": 286
        },
        "outputId": "a046856c-f183-4fab-8004-834b4da12c27"
      },
      "source": [
        "#view an image sample\n",
        "imgsample = Image.open('English/Fnt/Sample037/img037-00008.png')\n",
        "npsample = np.array(imgsample)\n",
        "plt.imshow(npsample)"
      ],
      "execution_count": 10,
      "outputs": [
        {
          "output_type": "execute_result",
          "data": {
            "text/plain": [
              "<matplotlib.image.AxesImage at 0x7f4abb6e85c0>"
            ]
          },
          "metadata": {
            "tags": []
          },
          "execution_count": 10
        },
        {
          "output_type": "display_data",
          "data": {
            "image/png": "[encoded data removed]",
            "text/plain": [
              "<Figure size 432x288 with 1 Axes>"
            ]
          },
          "metadata": {
            "tags": [],
            "needs_background": "light"
          }
        }
      ]
    },
    {
      "cell_type": "markdown",
      "metadata": {
        "id": "lCnZHhon3yAH",
        "colab_type": "text"
      },
      "source": [
        "<h1>PREPROCESSING</h1>"
      ]
    },
    {
      "cell_type": "code",
      "metadata": {
        "id": "2yEQXg3sNJ0G",
        "colab_type": "code",
        "colab": {}
      },
      "source": [
        "#create train, valid and test directories\n",
        "if not os.path.isdir('dataset'):\n",
        "  os.mkdir('dataset')\n",
        "\n",
        "if not os.path.isdir('dataset/train'):\n",
        "  os.mkdir('dataset/train')\n",
        "if not os.path.isdir('dataset/valid'):\n",
        "  os.mkdir('dataset/valid')\n",
        "if not os.path.isdir('dataset/test'):\n",
        "  os.mkdir('dataset/test')"
      ],
      "execution_count": 0,
      "outputs": []
    },
    {
      "cell_type": "code",
      "metadata": {
        "id": "vV2weMufQL7Y",
        "colab_type": "code",
        "colab": {}
      },
      "source": [
        "#make class directories inside them\n",
        "for i in sorted(os.listdir('English/Fnt')):\n",
        "  if not os.path.isdir('dataset/train/'+i):\n",
        "    os.mkdir('dataset/train/'+i)\n",
        "  if not os.path.isdir('dataset/valid/'+i):\n",
        "    os.mkdir('dataset/valid/'+i)\n",
        "  if not os.path.isdir('dataset/test/'+i):\n",
        "    os.mkdir('dataset/test/'+i)"
      ],
      "execution_count": 0,
      "outputs": []
    },
    {
      "cell_type": "code",
      "metadata": {
        "id": "8Kmp4RoWROII",
        "colab_type": "code",
        "colab": {}
      },
      "source": [
        "#split main folder to train, valid, test and copy images to the new folders\n",
        "base = 'English/Fnt/Sample'\n",
        "\n",
        "for char  in range(1, 63):\n",
        "  classLen = len(os.listdir(base + str(char).zfill(3)))\n",
        "\n",
        "  trainLen = math.floor(classLen*0.80)\n",
        "  validLen = math.ceil(classLen*0.15)\n",
        "\n",
        "  randFnt = np.random.randint(low = 1, high = classLen, size = classLen)\n",
        "  randTrain = randFnt[:trainLen]\n",
        "  randValid = randFnt[trainLen : trainLen+validLen]\n",
        "  randTest = randFnt[trainLen+validLen :]\n",
        "\n",
        "  for imgNo in randTrain:\n",
        "    src = base+str(char).zfill(3)+'/img'+str(char).zfill(3)+'-'+str(imgNo).zfill(5)+'.png'\n",
        "    des = 'dataset/train/Sample'+str(char).zfill(3)+'/img'+str(char).zfill(3)+'-'+str(imgNo).zfill(5)+'.png'\n",
        "    copyfile(src, des)\n",
        "\n",
        "  for imgNo in randValid:\n",
        "    src = base+str(char).zfill(3)+'/img'+str(char).zfill(3)+'-'+str(imgNo).zfill(5)+'.png'\n",
        "    des = 'dataset/valid/Sample'+str(char).zfill(3)+'/img'+str(char).zfill(3)+'-'+str(imgNo).zfill(5)+'.png'\n",
        "    copyfile(src, des)\n",
        "\n",
        "  for imgNo in randTest:\n",
        "    src = base+str(char).zfill(3)+'/img'+str(char).zfill(3)+'-'+str(imgNo).zfill(5)+'.png'\n",
        "    des = 'dataset/test/Sample'+str(char).zfill(3)+'/img'+str(char).zfill(3)+'-'+str(imgNo).zfill(5)+'.png'\n",
        "    copyfile(src, des)\n"
      ],
      "execution_count": 0,
      "outputs": []
    },
    {
      "cell_type": "markdown",
      "metadata": {
        "id": "3c-IrTJ935Iu",
        "colab_type": "text"
      },
      "source": [
        "<h1>MODEL CREATION</h1>"
      ]
    },
    {
      "cell_type": "code",
      "metadata": {
        "id": "b_M7kWRTijmy",
        "colab_type": "code",
        "colab": {}
      },
      "source": [
        "#define constants\n",
        "num_classes = 62\n",
        "image_resize = 128\n",
        "batch_size_training = 128\n",
        "batch_size_validation = 64"
      ],
      "execution_count": 0,
      "outputs": []
    },
    {
      "cell_type": "code",
      "metadata": {
        "id": "DJZjW4Ibk623",
        "colab_type": "code",
        "colab": {}
      },
      "source": [
        "#create data generator\n",
        "data_generator = ImageDataGenerator(rescale=1.0/255.0)"
      ],
      "execution_count": 0,
      "outputs": []
    },
    {
      "cell_type": "code",
      "metadata": {
        "id": "9XsEqKuYldnU",
        "colab_type": "code",
        "colab": {
          "base_uri": "https://localhost:8080/",
          "height": 52
        },
        "outputId": "0b8b3780-d56c-4e0c-e99c-d743bbf43f35"
      },
      "source": [
        "#create train and valid generators\n",
        "train_generator = data_generator.flow_from_directory(\n",
        "    'dataset/train',\n",
        "    target_size = (image_resize, image_resize),\n",
        "    batch_size = batch_size_training,\n",
        "    color_mode = 'grayscale',\n",
        "    class_mode = 'categorical'\n",
        ")\n",
        "\n",
        "validation_generator = data_generator.flow_from_directory(\n",
        "    'dataset/valid',\n",
        "    target_size = (image_resize, image_resize),\n",
        "    batch_size = batch_size_training,\n",
        "    color_mode = 'grayscale',\n",
        "    class_mode = 'categorical'\n",
        ")"
      ],
      "execution_count": 21,
      "outputs": [
        {
          "output_type": "stream",
          "text": [
            "Found 34618 images belonging to 62 classes.\n",
            "Found 8823 images belonging to 62 classes.\n"
          ],
          "name": "stdout"
        }
      ]
    },
    {
      "cell_type": "code",
      "metadata": {
        "id": "oRnDQE4vpzFL",
        "colab_type": "code",
        "colab": {
          "base_uri": "https://localhost:8080/",
          "height": 34
        },
        "outputId": "f679ae62-0ce5-4ec5-aa0d-9c399d02d21b"
      },
      "source": [
        "#view batch specifications\n",
        "batchX, batchy = train_generator.next()\n",
        "print('Batch shape=%s, min=%.3f, max=%.3f' % (batchX.shape, batchX.min(), batchX.max()))"
      ],
      "execution_count": 22,
      "outputs": [
        {
          "output_type": "stream",
          "text": [
            "Batch shape=(128, 128, 128, 1), min=0.000, max=1.000\n"
          ],
          "name": "stdout"
        }
      ]
    },
    {
      "cell_type": "code",
      "metadata": {
        "id": "NT1N7nt2QyU4",
        "colab_type": "code",
        "colab": {}
      },
      "source": [
        "#This is the best model i could create.\n",
        "#Because for other cases, the improvement was minimal compared to the additional computational cost."
      ],
      "execution_count": 0,
      "outputs": []
    },
    {
      "cell_type": "code",
      "metadata": {
        "id": "9Wvt6wiqmcYd",
        "colab_type": "code",
        "colab": {}
      },
      "source": [
        "#create the model\n",
        "def ocrModel():\n",
        "  model = Sequential()\n",
        "  model.add(Conv2D(32, (4,4), strides = (1,1), activation = 'relu', input_shape = (128, 128, 1)))\n",
        "  model.add(MaxPooling2D(pool_size = (4,4), strides = (2,2)))\n",
        "  model.add(Conv2D(64, (4,4), strides = (1,1), activation = 'relu', input_shape = (128, 128, 1)))\n",
        "  model.add(MaxPooling2D(pool_size = (4,4),strides = (2,2)))\n",
        "\n",
        "  model.add(Flatten())\n",
        "\n",
        "  model.add(Dense(310, activation='relu'))\n",
        "  model.add(Dense(num_classes, activation = 'softmax'))\n",
        "\n",
        "  model.compile(optimizer = 'adam',loss = 'categorical_crossentropy',metrics = ['accuracy'])\n",
        "\n",
        "  return model"
      ],
      "execution_count": 0,
      "outputs": []
    },
    {
      "cell_type": "code",
      "metadata": {
        "id": "OAUTNIXcwlPi",
        "colab_type": "code",
        "colab": {}
      },
      "source": [
        "#parameters for fitting\n",
        "steps_per_epoch_training = len(train_generator)\n",
        "steps_per_epoch_validation = len(train_generator)\n",
        "num_epochs = 20"
      ],
      "execution_count": 0,
      "outputs": []
    },
    {
      "cell_type": "code",
      "metadata": {
        "id": "lFuzVyu32E73",
        "colab_type": "code",
        "colab": {
          "base_uri": "https://localhost:8080/",
          "height": 404
        },
        "outputId": "3041ab1a-68bc-4275-efd9-523bba7b97b1"
      },
      "source": [
        "model = ocrModel()\n",
        "\n",
        "#view model summary\n",
        "model.summary()"
      ],
      "execution_count": 76,
      "outputs": [
        {
          "output_type": "stream",
          "text": [
            "Model: \"sequential_17\"\n",
            "_________________________________________________________________\n",
            "Layer (type)                 Output Shape              Param #   \n",
            "=================================================================\n",
            "conv2d_35 (Conv2D)           (None, 125, 125, 32)      544       \n",
            "_________________________________________________________________\n",
            "max_pooling2d_35 (MaxPooling (None, 61, 61, 32)        0         \n",
            "_________________________________________________________________\n",
            "conv2d_36 (Conv2D)           (None, 58, 58, 64)        32832     \n",
            "_________________________________________________________________\n",
            "max_pooling2d_36 (MaxPooling (None, 28, 28, 64)        0         \n",
            "_________________________________________________________________\n",
            "flatten_17 (Flatten)         (None, 50176)             0         \n",
            "_________________________________________________________________\n",
            "dense_38 (Dense)             (None, 310)               15554870  \n",
            "_________________________________________________________________\n",
            "dense_39 (Dense)             (None, 62)                19282     \n",
            "=================================================================\n",
            "Total params: 15,607,528\n",
            "Trainable params: 15,607,528\n",
            "Non-trainable params: 0\n",
            "_________________________________________________________________\n"
          ],
          "name": "stdout"
        }
      ]
    },
    {
      "cell_type": "markdown",
      "metadata": {
        "id": "mWe_53fp3_CN",
        "colab_type": "text"
      },
      "source": [
        "<h1>FIT MODEL</H1>"
      ]
    },
    {
      "cell_type": "code",
      "metadata": {
        "id": "QFLnfkhiw3Wc",
        "colab_type": "code",
        "colab": {
          "base_uri": "https://localhost:8080/",
          "height": 721
        },
        "outputId": "58d6231e-f7f0-40b6-a994-459558c4d148"
      },
      "source": [
        "#fit model\n",
        "fit_history = model.fit_generator(\n",
        "    train_generator,\n",
        "    steps_per_epoch = steps_per_epoch_training,\n",
        "    epochs = num_epochs,\n",
        "    validation_data = validation_generator,\n",
        "    validation_steps = steps_per_epoch_validation,\n",
        "    verbose = 1\n",
        ")"
      ],
      "execution_count": 60,
      "outputs": [
        {
          "output_type": "stream",
          "text": [
            "Epoch 1/20\n",
            "271/271 [==============================] - 38s 140ms/step - loss: 1.1120 - accuracy: 0.7155 - val_loss: 0.3850 - val_accuracy: 0.8614\n",
            "Epoch 2/20\n",
            "271/271 [==============================] - 38s 139ms/step - loss: 0.3896 - accuracy: 0.8719 - val_loss: 0.3193 - val_accuracy: 0.9008\n",
            "Epoch 3/20\n",
            "271/271 [==============================] - 38s 138ms/step - loss: 0.2562 - accuracy: 0.9081 - val_loss: 0.3161 - val_accuracy: 0.9124\n",
            "Epoch 4/20\n",
            "271/271 [==============================] - 38s 138ms/step - loss: 0.1984 - accuracy: 0.9268 - val_loss: 0.1398 - val_accuracy: 0.9236\n",
            "Epoch 5/20\n",
            "271/271 [==============================] - 38s 139ms/step - loss: 0.1653 - accuracy: 0.9384 - val_loss: 0.2262 - val_accuracy: 0.9311\n",
            "Epoch 6/20\n",
            "271/271 [==============================] - 38s 139ms/step - loss: 0.1409 - accuracy: 0.9479 - val_loss: 0.2580 - val_accuracy: 0.9335\n",
            "Epoch 7/20\n",
            "271/271 [==============================] - 38s 139ms/step - loss: 0.1306 - accuracy: 0.9507 - val_loss: 0.3015 - val_accuracy: 0.9331\n",
            "Epoch 8/20\n",
            "271/271 [==============================] - 38s 139ms/step - loss: 0.1151 - accuracy: 0.9566 - val_loss: 0.2281 - val_accuracy: 0.9352\n",
            "Epoch 9/20\n",
            "271/271 [==============================] - 38s 140ms/step - loss: 0.1036 - accuracy: 0.9614 - val_loss: 0.1910 - val_accuracy: 0.9374\n",
            "Epoch 10/20\n",
            "271/271 [==============================] - 38s 139ms/step - loss: 0.0961 - accuracy: 0.9630 - val_loss: 0.2992 - val_accuracy: 0.9363\n",
            "Epoch 11/20\n",
            "271/271 [==============================] - 38s 139ms/step - loss: 0.0886 - accuracy: 0.9670 - val_loss: 0.3249 - val_accuracy: 0.9369\n",
            "Epoch 12/20\n",
            "271/271 [==============================] - 38s 139ms/step - loss: 0.0777 - accuracy: 0.9715 - val_loss: 0.1405 - val_accuracy: 0.9413\n",
            "Epoch 13/20\n",
            "271/271 [==============================] - 38s 139ms/step - loss: 0.0761 - accuracy: 0.9715 - val_loss: 0.1145 - val_accuracy: 0.9430\n",
            "Epoch 14/20\n",
            "271/271 [==============================] - 38s 140ms/step - loss: 0.0695 - accuracy: 0.9747 - val_loss: 0.1140 - val_accuracy: 0.9409\n",
            "Epoch 15/20\n",
            "271/271 [==============================] - 38s 140ms/step - loss: 0.0705 - accuracy: 0.9745 - val_loss: 0.2722 - val_accuracy: 0.9371\n",
            "Epoch 16/20\n",
            "271/271 [==============================] - 38s 139ms/step - loss: 0.0658 - accuracy: 0.9758 - val_loss: 0.2589 - val_accuracy: 0.9425\n",
            "Epoch 17/20\n",
            "271/271 [==============================] - 38s 139ms/step - loss: 0.0586 - accuracy: 0.9781 - val_loss: 0.1269 - val_accuracy: 0.9433\n",
            "Epoch 18/20\n",
            "271/271 [==============================] - 38s 138ms/step - loss: 0.0549 - accuracy: 0.9789 - val_loss: 0.3461 - val_accuracy: 0.9435\n",
            "Epoch 19/20\n",
            "271/271 [==============================] - 38s 139ms/step - loss: 0.0521 - accuracy: 0.9808 - val_loss: 0.2189 - val_accuracy: 0.9412\n",
            "Epoch 20/20\n",
            "271/271 [==============================] - 38s 139ms/step - loss: 0.0488 - accuracy: 0.9811 - val_loss: 0.2745 - val_accuracy: 0.9466\n"
          ],
          "name": "stdout"
        }
      ]
    },
    {
      "cell_type": "code",
      "metadata": {
        "id": "AUidT-h3x_eY",
        "colab_type": "code",
        "colab": {
          "base_uri": "https://localhost:8080/",
          "height": 279
        },
        "outputId": "adc13fdd-2810-42d7-b2a0-e30098a1a8fc"
      },
      "source": [
        "#plot the fitting history\n",
        "plt.plot(range(1,21), fit_history.history['val_accuracy'], label='valid')\n",
        "plt.plot(range(1,21), fit_history.history['accuracy'], label='train')\n",
        "plt.xlabel('epochs')\n",
        "plt.ylabel('accuracy')\n",
        "plt.legend()\n",
        "plt.show()"
      ],
      "execution_count": 62,
      "outputs": [
        {
          "output_type": "display_data",
          "data": {
            "image/png": "[encoded data removed]",
            "text/plain": [
              "<Figure size 432x288 with 1 Axes>"
            ]
          },
          "metadata": {
            "tags": [],
            "needs_background": "light"
          }
        }
      ]
    },
    {
      "cell_type": "markdown",
      "metadata": {
        "id": "JN_bI1kh4LOO",
        "colab_type": "text"
      },
      "source": [
        "<h1>TEST MODEL</h1>"
      ]
    },
    {
      "cell_type": "code",
      "metadata": {
        "id": "FjlfWaVh-atM",
        "colab_type": "code",
        "colab": {
          "base_uri": "https://localhost:8080/",
          "height": 34
        },
        "outputId": "a3f0af85-c61a-46a1-8960-cdf08818597b"
      },
      "source": [
        "#define test generator\n",
        "test_generator = data_generator.flow_from_directory(\n",
        "    'dataset/test',\n",
        "    target_size = (image_resize, image_resize),\n",
        "    shuffle = False,\n",
        "    color_mode='grayscale'\n",
        ")"
      ],
      "execution_count": 65,
      "outputs": [
        {
          "output_type": "stream",
          "text": [
            "Found 3080 images belonging to 62 classes.\n"
          ],
          "name": "stdout"
        }
      ]
    },
    {
      "cell_type": "code",
      "metadata": {
        "id": "Q6x2eXIKC0cn",
        "colab_type": "code",
        "colab": {
          "base_uri": "https://localhost:8080/",
          "height": 87
        },
        "outputId": "ee76106f-cb37-4dfd-8c78-9baa5c839864"
      },
      "source": [
        "#evaluate the model\n",
        "eval = model.evaluate_generator(test_generator, verbose=1)\n",
        "print('Model performance:')\n",
        "print('loss for test dataset is : {}'.format(eval[0]))\n",
        "print('accuracy for test dataset is : {}'.format(eval[1]))"
      ],
      "execution_count": 66,
      "outputs": [
        {
          "output_type": "stream",
          "text": [
            "97/97 [==============================] - 1s 13ms/step\n",
            "Model performance:\n",
            "loss for test dataset is : 0.0007697362452745438\n",
            "accuracy for test dataset is : 0.9477272629737854\n"
          ],
          "name": "stdout"
        }
      ]
    },
    {
      "cell_type": "code",
      "metadata": {
        "id": "ToXps8LiDMX_",
        "colab_type": "code",
        "colab": {
          "base_uri": "https://localhost:8080/",
          "height": 125
        },
        "outputId": "b58a3b4c-a6e4-41c3-9a82-0c823e124c47"
      },
      "source": [
        "#connect to your google drive\n",
        "from google.colab import drive \n",
        "drive.mount('/content/gdrive')"
      ],
      "execution_count": 67,
      "outputs": [
        {
          "output_type": "stream",
          "text": [
            "Go to this URL in a browser: https://accounts.google.com/o/oauth2/auth?client_id=947318989803-6bn6qk8qdgf4n4g3pfee6491hc0brc4i.apps.googleusercontent.com&redirect_uri=urn%3aietf%3awg%3aoauth%3a2.0%3aoob&response_type=code&scope=email%20https%3a%2f%2fwww.googleapis.com%2fauth%2fdocs.test%20https%3a%2f%2fwww.googleapis.com%2fauth%2fdrive%20https%3a%2f%2fwww.googleapis.com%2fauth%2fdrive.photos.readonly%20https%3a%2f%2fwww.googleapis.com%2fauth%2fpeopleapi.readonly\n",
            "\n",
            "Enter your authorization code:\n",
            "··········\n",
            "Mounted at /content/gdrive\n"
          ],
          "name": "stdout"
        }
      ]
    },
    {
      "cell_type": "code",
      "metadata": {
        "id": "QCf2jngADtmL",
        "colab_type": "code",
        "colab": {}
      },
      "source": [
        "#save model to google drive\n",
        "model.save('/content/gdrive/My Drive/keras_models/OCRmodel.h5')"
      ],
      "execution_count": 0,
      "outputs": []
    },
    {
      "cell_type": "code",
      "metadata": {
        "id": "aGPW9rp4D0bc",
        "colab_type": "code",
        "colab": {}
      },
      "source": [
        "#to copy from drive\n",
        "#!cp /content/gdrive/My\\ Drive/keras_models/classifier_resnet_model.h5 ./classifier_resnet_model.h5"
      ],
      "execution_count": 0,
      "outputs": []
    },
    {
      "cell_type": "markdown",
      "metadata": {
        "id": "eWon8Uqb4PVJ",
        "colab_type": "text"
      },
      "source": [
        "<h1> TEST MODEL ON OWN FILES</h1>"
      ]
    },
    {
      "cell_type": "code",
      "metadata": {
        "id": "VJVRTy6VlCEs",
        "colab_type": "code",
        "colab": {
          "resources": {
            "http://localhost:8080/nbextensions/google.colab/files.js": {
              "data": "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",
              "ok": true,
              "headers": [
                [
                  "content-type",
                  "application/javascript"
                ]
              ],
              "status": 200,
              "status_text": ""
            }
          },
          "base_uri": "https://localhost:8080/",
          "height": 316
        },
        "outputId": "0bd8ba6b-2b2d-4dbd-d2c1-90585e529fbb"
      },
      "source": [
        "#upload files from local storage\n",
        "from google.colab import files\n",
        "uploaded = files.upload()"
      ],
      "execution_count": 70,
      "outputs": [
        {
          "output_type": "display_data",
          "data": {
            "text/html": [
              "\n",
              "     <input type=\"file\" id=\"files-783e7c8d-6610-4ee9-a51e-cb787b3981da\" name=\"files[]\" multiple disabled />\n",
              "     <output id=\"result-783e7c8d-6610-4ee9-a51e-cb787b3981da\">\n",
              "      Upload widget is only available when the cell has been executed in the\n",
              "      current browser session. Please rerun this cell to enable.\n",
              "      </output>\n",
              "      <script src=\"/nbextensions/google.colab/files.js\"></script> "
            ],
            "text/plain": [
              "<IPython.core.display.HTML object>"
            ]
          },
          "metadata": {
            "tags": []
          }
        },
        {
          "output_type": "stream",
          "text": [
            "Saving 8.png to 8.png\n",
            "Saving 7.png to 7.png\n",
            "Saving 6.png to 6.png\n",
            "Saving 5.png to 5.png\n",
            "Saving 4.png to 4.png\n",
            "Saving 3.png to 3.png\n",
            "Saving 2.png to 2.png\n",
            "Saving 1.png to 1.png\n"
          ],
          "name": "stdout"
        }
      ]
    },
    {
      "cell_type": "code",
      "metadata": {
        "id": "bkXhsBss0hvS",
        "colab_type": "code",
        "colab": {}
      },
      "source": [
        "#create a label map\n",
        "classArr = [str(i) for i in range(10)]\n",
        "classArr.extend([chr(i) for i in range(ord('A'), ord('Z')+1)])\n",
        "classArr.extend([chr(i) for i in range(ord('a'), ord('z')+1)])"
      ],
      "execution_count": 0,
      "outputs": []
    },
    {
      "cell_type": "code",
      "metadata": {
        "id": "THOEwD470IzN",
        "colab_type": "code",
        "colab": {
          "base_uri": "https://localhost:8080/",
          "height": 147
        },
        "outputId": "6c6ffdd8-4ffe-4ed4-8ac6-838c49411b1b"
      },
      "source": [
        "#view the text images to be detected\n",
        "fig, axs = plt.subplots(1,8, figsize = (16,5))\n",
        "\n",
        "for i in range(8): \n",
        "    image_data = Image.open(str(i+1)+'.png')\n",
        "    axs[i].imshow(image_data)"
      ],
      "execution_count": 71,
      "outputs": [
        {
          "output_type": "display_data",
          "data": {
            "image/png": "[encoded data removed]",
            "text/plain": [
              "<Figure size 1152x360 with 8 Axes>"
            ]
          },
          "metadata": {
            "tags": [],
            "needs_background": "light"
          }
        }
      ]
    },
    {
      "cell_type": "code",
      "metadata": {
        "id": "oyDdWSeC0Qzz",
        "colab_type": "code",
        "colab": {
          "base_uri": "https://localhost:8080/",
          "height": 34
        },
        "outputId": "26cdab74-0178-47d8-c2e8-33cd42aa7b71"
      },
      "source": [
        "#detect text using model\n",
        "res = ''\n",
        "for i in range(1,9):\n",
        "  img = Image.open(str(i)+'.png')\n",
        "  imgnp = np.array(img)\n",
        "  imgnp = np.reshape(imgnp, (1,imgnp.shape[0],imgnp.shape[1], 1))\n",
        "  predict = model.predict_classes(imgnp)\n",
        "  res += classArr[predict[0]]\n",
        "\n",
        "print(res)"
      ],
      "execution_count": 74,
      "outputs": [
        {
          "output_type": "stream",
          "text": [
            "ANuRag29\n"
          ],
          "name": "stdout"
        }
      ]
    }
  ]
}